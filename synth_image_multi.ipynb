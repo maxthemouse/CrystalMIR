{
 "cells": [
  {
   "cell_type": "markdown",
   "id": "0",
   "metadata": {},
   "source": [
    "# Sythetic Images\n",
    "\n",
    "Create images using the fitting parameters. Use list to create multiple images."
   ]
  },
  {
   "cell_type": "markdown",
   "id": "1",
   "metadata": {},
   "source": [
    "### Imports"
   ]
  },
  {
   "cell_type": "code",
   "execution_count": null,
   "id": "2",
   "metadata": {},
   "outputs": [],
   "source": [
    "# imports\n",
    "import os, os.path\n",
    "from dotenv import load_dotenv\n",
    "import io_files as io\n",
    "import numpy as np\n",
    "import json\n",
    "from fit_mir import ProgressBar\n",
    "import time"
   ]
  },
  {
   "cell_type": "markdown",
   "id": "3",
   "metadata": {},
   "source": [
    "### Load Setting"
   ]
  },
  {
   "cell_type": "code",
   "execution_count": null,
   "id": "4",
   "metadata": {},
   "outputs": [],
   "source": [
    "# load default dictionary to put the values\n",
    "param = {}\n",
    "# set the settings file path\n",
    "load_dotenv()\n",
    "param[\"s_name\"] = os.getenv(\"S_NAME\")\n",
    "param[\"s_folder\"] = os.getenv(\"S_FOLDER\")\n",
    "# read the content\n",
    "path_name = os.path.join(param[\"s_folder\"], param[\"s_name\"])\n",
    "with open(path_name, \"r\") as f:\n",
    "    param.update(json.load(f))\n",
    "print(param)"
   ]
  },
  {
   "cell_type": "markdown",
   "id": "5",
   "metadata": {},
   "source": [
    "### Load flats\n",
    "\n",
    "Load data from npz files"
   ]
  },
  {
   "cell_type": "code",
   "execution_count": null,
   "id": "6",
   "metadata": {},
   "outputs": [],
   "source": [
    "output = io.Text_Output()\n",
    "Num = param[\"data_dirs\"]\n",
    "\n",
    "def load_result(d_path):\n",
    "    result = []\n",
    "    if os.path.exists(d_path):\n",
    "        results = np.load(d_path, mmap_mode=\"r\")\n",
    "        output.showMessage(list(key for key in results.keys()))\n",
    "        result = [results[key] for key in results.keys()]\n",
    "    else:\n",
    "        out.showMessage(f'File: {d_path} not found')\n",
    "    return result\n",
    "\n",
    "\n",
    "# set if there are two flats\n",
    "param[\"flat2\"] = True\n",
    "# flat1\n",
    "result1 = load_result(os.path.join(param[\"output_dir\"], param[\"result_dir\"], \"flat_fit.npz\"))\n",
    "# image, adjust name of image file\n",
    "# result2 = load_result(os.path.join(param[\"output_dir\"], param[\"result_dir\"], f\"image_fit_{Num}.npz\"))\n",
    "# flat2 if present\n",
    "result3 = []\n",
    "if param[\"flat2\"]:\n",
    "    result3 = load_result(os.path.join(param[\"output_dir\"], param[\"result_dir\"], \"flat2_fit.npz\"))\n",
    "    # combine results1 and results3\n",
    "    result4 = list(map(lambda x, y: (x + y) / 2, result1, result3))\n",
    "else:\n",
    "    result4 = result1\n"
   ]
  },
  {
   "cell_type": "markdown",
   "id": "7",
   "metadata": {},
   "source": [
    "## Create Images\n",
    "\n",
    "Pick a sigma from the center to calculate. The flat image is used as the reference."
   ]
  },
  {
   "cell_type": "code",
   "execution_count": null,
   "id": "8",
   "metadata": {},
   "outputs": [],
   "source": [
    "def e_func(f):\n",
    "    def g(x):\n",
    "        return np.exp(f(x))\n",
    "\n",
    "    return g\n",
    "\n",
    "factor = param[\"sigma_factor\"]\n",
    "dtype = param[\"dtype\"]\n",
    "io.mkdir(os.path.join(param[\"output_dir\"], param[\"result_dir\"], f'{factor}sigma'))\n",
    "\n",
    "start_all = time.time()\n",
    "time_each = []\n",
    "for N in Num:\n",
    "    start_each = time.time()\n",
    "    output.showMessage(f\"Working on image: {N}.\")\n",
    "    result2 = load_result(os.path.join(param[\"output_dir\"], param[\"result_dir\"], f\"image_fit_{N}.npz\"))\n",
    "    xsize, ysize = result1[0].shape\n",
    "    s_image = np.zeros(result2[0].shape, dtype=float)\n",
    "    PBar = ProgressBar(xsize, True)\n",
    "    PBar.reset()\n",
    "    for X in range(xsize):\n",
    "        for Y in range(ysize):\n",
    "            f_a, f_b, f_c = [result4[i][X, Y] for i in range(3, 6)]\n",
    "            i_a, i_b, i_c = [result2[i][X, Y] for i in range(3, 6)]\n",
    "            f_ln_fit = np.poly1d([f_c, f_b, f_a])\n",
    "            i_ln_fit = np.poly1d([i_c, i_b, i_a])\n",
    "            f_fit = e_func(f_ln_fit)\n",
    "            i_fit = e_func(i_ln_fit)\n",
    "            mu = -f_b/2*f_c\n",
    "            sigma2 = -1.0 / (2.0 * f_c)\n",
    "            sigma = np.sqrt(abs(sigma2))\n",
    "            x_value = mu + factor*sigma\n",
    "            s_image[X,Y] = i_fit(x_value)/f_fit(x_value)\n",
    "        PBar.setValue(X / float(xsize) * 100.0)\n",
    "    io.save_img(os.path.join(param[\"output_dir\"], param[\"result_dir\"], f'{factor}sigma', f'image_synth_{N}.tif'), s_image, dtype)\n",
    "    PBar.setValue(100.0)\n",
    "    end_each = time.time()\n",
    "    time_each.append(end_each - start_each)\n",
    "end_all = time.time()\n",
    "each_ave = (sum(time_each) / len(time_each)) / 60.0\n",
    "total = (end_all - start_all) / 60.0\n",
    "output.showMessage(\n",
    "        \"Finished all folders.\\nTotal Time = {:6.2f} min, time per folder = {:6.2f} min.\".format(\n",
    "            total, each_ave\n",
    "        )\n",
    ")"
   ]
  }
 ],
 "metadata": {
  "kernelspec": {
   "display_name": "Python 3 (ipykernel)",
   "language": "python",
   "name": "python3"
  },
  "language_info": {
   "codemirror_mode": {
    "name": "ipython",
    "version": 3
   },
   "file_extension": ".py",
   "mimetype": "text/x-python",
   "name": "python",
   "nbconvert_exporter": "python",
   "pygments_lexer": "ipython3",
   "version": "3.12.3"
  }
 },
 "nbformat": 4,
 "nbformat_minor": 5
}
