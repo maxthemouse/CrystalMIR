{
 "cells": [
  {
   "cell_type": "markdown",
   "metadata": {},
   "source": [
    "# Multiple Image Radiology\n",
    "Multiple images are taken across the rocking curve of the analyzer crystal. Typically 5 - 11 measurements are made with one measurement at the top of the rocking curve and equal numbers of points on each side (low angle and high angle). This notebook page steps through the analysis of a single data or multiple sets. Inputs are given in each area. Output is to the notebook and to a log file in the output directory. Each code section can be executed one at time by selecting a block and pressing Shift-Enter. The entire notebook can be executed at once by selecting Cell-Run All from the menu above."
   ]
  },
  {
   "cell_type": "markdown",
   "metadata": {},
   "source": [
    "## Setting the root folder\n",
    "Select the base directory where the data is located. \n",
    "\n",
    "    1. Dark image files are in a folder. Take average or median image of all of them.\n",
    "    2. Flat image files are in a folder. Files are in numerical order.\n",
    "    3. Images are in a folder. Files are in numeric order.\n",
    "    4. Ion chamber reading taken at the same time are in .dat files. These contain three columns of data separated by comma. Columns are: column, reading, current.\n",
    "    5. During collection of vertical steps the flat and dark sets will be with one vertical scan. Copy them to the other folders to use them. \n",
    "    6. It is not clear what to do with two sets of flats. Average might be right. Or just take one of them.\n",
    "    7. Check that files have padded numbers. Fit will not work properly if files are read in the wrong order. \n",
    "        a. The sCMOS Photonic Science detector does not pad file numbers of a sequence.\n",
    "        b. In Powershell a script can be used. For example if the name is of the form name_1.tif: \n",
    "            `gci *.tif |%{rni $_ (($_.basename-split'_')[0] + '_{0:0000}.tif' -f +($_.basename-split'_')[1])}`\n",
    "    8. If there is a lot of data, it will take a long time to renumber each folder. If the renumber script is aliased to `renum' it is possible to use a simple command in the top level folder to recursively renumber files.\n",
    "        1. To renumber every folder: `Get-ChildItem -Recurse -Force -Directory | ForEach-Object{cd $_.FullName; renum}`\n",
    "        2. To select folders with a specific name, image: `Get-ChildItem -Recurse -Force -Filter image | ForEach-Object{cd $_.FullName; renum}`\n",
    "        3. In both cases you end up in the last directory found."
   ]
  },
  {
   "cell_type": "code",
   "execution_count": null,
   "metadata": {},
   "outputs": [],
   "source": [
    "# imports\n",
    "import io_files as io\n",
    "import fit_mir as fm\n",
    "from numpy import exp, log, poly1d"
   ]
  },
  {
   "cell_type": "code",
   "execution_count": null,
   "metadata": {},
   "outputs": [],
   "source": [
    "# load default dictionary to put the values\n",
    "param = fm.mir_defaults\n",
    "# set the root folders\n",
    "param[\"root_dir\"] = r\"G:\\path\\to\\data\"\n",
    "param[\"data_dir\"] = r\"01\"\n",
    "param[\"dark_dir\"] = r\"05\"\n",
    "param[\"flat_dir\"] = r\"01\"\n",
    "param[\"flat2_dir\"] = r\"05\"  # set to \"\" if not present\n",
    "# use a function to build all the paths\n",
    "output = io.Text_Output()\n",
    "param['output'] = output\n",
    "io.create_paths(param, output)"
   ]
  },
  {
   "cell_type": "markdown",
   "metadata": {},
   "source": [
    "## Load data\n",
    "Load the files and organise."
   ]
  },
  {
   "cell_type": "code",
   "execution_count": null,
   "metadata": {},
   "outputs": [],
   "source": [
    "# crop = [700,3600,125,250] # [LEFT, RIGHT, TOP, BOTTOM] -1 for limit\n",
    "#crop = [-1, -1, 90, 260]\n",
    "crop = [-1, -1, 150, 270]\n",
    "param['crop'] = crop\n",
    "image, flat_image, flat2_image = io.load_data(param, crop)\n",
    "print('No of images loaded are: {}, {}, {}. All should have the same value.'.format(len(image), len(flat_image), len(flat2_image)))"
   ]
  },
  {
   "cell_type": "markdown",
   "metadata": {},
   "source": [
    "## Fit Gaussian to data\n",
    "Ideally the x-axis should be the angle. In this case, use the positions from the scan file. The position is basically linear with respect to angle so the x-axis is only off by a scalar amount.\n",
    "\n",
    "Output from fitting is a tuple in the following order:\n",
    "\n",
    "0. IR      : absorption image\n",
    "1. deltaR  : refraction image\n",
    "2. sigma2  : ultra-small angle scattering image\n",
    "3. a_img   : image of the A fitting parameter\n",
    "4. b_img   : image of the B fitting parameter\n",
    "5. c_img   : image of the C fitting parameter\n",
    "6. abs_img : absorption image (intensity has log scale)\n",
    "7. res_img : r-squared image"
   ]
  },
  {
   "cell_type": "code",
   "execution_count": null,
   "metadata": {},
   "outputs": [],
   "source": [
    "Tr = 0.1  # threshold for data\n",
    "param['threshold'] = Tr\n",
    "param[\"save_result_npz\"] = True   # save fit results in npz file\n",
    "param[\"save_images\"] = False      # save fit results as tiff images\n",
    "result1, result2 = fm.fit_dirs(param, output, image, flat_image, flat2_image, Tr)"
   ]
  },
  {
   "cell_type": "markdown",
   "metadata": {},
   "source": [
    "## Look at results"
   ]
  },
  {
   "cell_type": "code",
   "execution_count": null,
   "metadata": {},
   "outputs": [],
   "source": [
    "%matplotlib inline\n",
    "import matplotlib.pyplot as plt\n",
    "from skimage import exposure\n",
    "_filter = param['image_filter']\n",
    "m = param['filter_width']\n",
    "fig, axs = plt.subplots(ncols=1, nrows=3)\n",
    "for ax in axs.flat:\n",
    "        ax.set(xticks=[], yticks=[])\n",
    "idx = 0  # select from the list above\n",
    "def scale(im):\n",
    "    im = exposure.rescale_intensity(im, out_range='uint8')\n",
    "    im = im.astype('uint8')\n",
    "    return im\n",
    "\n",
    "axs[0].imshow(scale(_filter(result1[idx], m)), cmap='gray')\n",
    "axs[0].set(xlabel='flat')\n",
    "axs[1].imshow(scale(_filter(result2[idx], m)), cmap='gray')\n",
    "axs[1].set(xlabel='image')\n",
    "axs[2].imshow(scale(_filter(result2[idx]-result1[idx], m)), cmap='gray')\n",
    "axs[2].set(xlabel='difference');"
   ]
  },
  {
   "cell_type": "markdown",
   "metadata": {},
   "source": [
    "## Save results"
   ]
  },
  {
   "cell_type": "code",
   "execution_count": null,
   "metadata": {},
   "outputs": [],
   "source": [
    "io.save_results(param, result1, result2)"
   ]
  },
  {
   "cell_type": "markdown",
   "metadata": {},
   "source": [
    "## Looking at fitting details\n",
    "It is useful to check a few points to see how the fits are working. For example if the data is read in the correct order or if the threshold is set too low. Select two points from the image to plot. Select one point in the background (bkg) and one in the object (obj)."
   ]
  },
  {
   "cell_type": "code",
   "execution_count": null,
   "metadata": {},
   "outputs": [],
   "source": [
    "# pick two points \n",
    "X = 80\n",
    "Y1 = 800  # flat\n",
    "Y2 = 1000  # image\n",
    "pos = param['x-axis']\n",
    "flat_d = [im[X,Y1] for im in image]\n",
    "image_d = [im[X,Y2] for im in image]\n",
    "f_A, f_D, f_S, f_a, f_b, f_c  = [result2[i][X,Y1] for i in range(6)]\n",
    "i_A, i_D, i_S, i_a, i_b, i_c  = [result2[i][X,Y2] for i in range(6)]\n",
    "f_ln_fit = poly1d([f_c, f_b, f_a])\n",
    "i_ln_fit = poly1d([i_c, i_b, i_a])\n",
    "def e_func(f):\n",
    "    def g(x):\n",
    "        return exp(f(x))\n",
    "    return g\n",
    "f_fit = e_func(f_ln_fit)\n",
    "i_fit = e_func(i_ln_fit)\n",
    "# make plots\n",
    "fig, axs = plt.subplots(ncols=2, nrows=2)\n",
    "for ax in axs.flat:\n",
    "        ax.set(xticks=[], yticks=[])\n",
    "axs[0,0].plot(pos, flat_d, 'bo', pos, f_fit(pos), '-k')\n",
    "axs[0,0].set_xlabel(r'$Bkg$')\n",
    "axs[0,1].plot(pos, log(flat_d), 'bo', pos, f_ln_fit(pos), '-k')\n",
    "axs[0,1].set_xlabel(r'$Ln(Bkg)$')\n",
    "axs[1,0].plot(pos, image_d, 'bo', pos, i_fit(pos), '-k')\n",
    "axs[1,0].set_xlabel(r'$Obj$')\n",
    "axs[1,1].plot(pos, log(image_d), 'bo', pos, i_ln_fit(pos), '-k')\n",
    "axs[1,1].set_xlabel(r'$Ln(Obj)$');"
   ]
  },
  {
   "cell_type": "code",
   "execution_count": null,
   "metadata": {},
   "outputs": [],
   "source": []
  }
 ],
 "metadata": {
  "kernelspec": {
   "display_name": "Python 3",
   "language": "python",
   "name": "python3"
  },
  "language_info": {
   "codemirror_mode": {
    "name": "ipython",
    "version": 3
   },
   "file_extension": ".py",
   "mimetype": "text/x-python",
   "name": "python",
   "nbconvert_exporter": "python",
   "pygments_lexer": "ipython3",
   "version": "3.7.4"
  }
 },
 "nbformat": 4,
 "nbformat_minor": 4
}
