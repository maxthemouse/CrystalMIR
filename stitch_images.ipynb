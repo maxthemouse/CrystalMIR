{
 "cells": [
  {
   "cell_type": "markdown",
   "metadata": {},
   "source": [
    "# Stitching Images\n",
    "The results of multiple vertical scans are to be stitched together to form a picture. The various images are stitched after processing into absorption, refraction and scattering images. In a perfect system the images could be simply put together in a montage. In practice there is some variation of the values. When the images are taken there is some overlap between the images. In stitching we will do two things.\n",
    "\n",
    "1. Use a background area such as air or the plastic holder as a reference. The values of the background should be the same in all images.\n",
    "2. Determine or give the overlap between images. The images are combined keeping the overlap in mind."
   ]
  },
  {
   "cell_type": "markdown",
   "metadata": {},
   "source": [
    "## Setting the root folder\n",
    "Select the base directory where the data is located. \n",
    "\n",
    "1. The results of multiple verticals should be sorted into individual folders in a `results` folder.\n",
    "2. Default values for the sub-folders were likely used but these can be changed as needed."
   ]
  },
  {
   "cell_type": "code",
   "execution_count": null,
   "metadata": {},
   "outputs": [],
   "source": [
    "# imports\n",
    "import os\n",
    "import os.path\n",
    "import io_files as io\n",
    "import glob\n",
    "from functools import reduce\n",
    "import fit_mir as fm\n",
    "import numpy as np"
   ]
  },
  {
   "cell_type": "code",
   "execution_count": null,
   "metadata": {},
   "outputs": [],
   "source": [
    "# folder of results\n",
    "param = {}\n",
    "# set the root folders\n",
    "param[\"root_dir\"] = r\"G:\\path\\to\\data\"\n",
    "param[\"data_dir\"] = r\"result\"\n",
    "r_path = os.path.join(param[\"root_dir\"],param[\"data_dir\"])\n",
    "results = [r\"Abs\", r\"Abs_log\", r\"Refraction\", r\"USAXS\", r\"R2\"]\n",
    "test = [os.path.exists(os.path.join(r_path, r)) for r in results]\n",
    "if not(all(test)):\n",
    "    print(\"Warning, not all results were found. Check folder names and folders.\")"
   ]
  },
  {
   "cell_type": "markdown",
   "metadata": {},
   "source": [
    "## Stitch Images\n",
    "Select a square region to use as a reference. This should be a background area or internal reference that is known to be homogeneous. Note, the area should ideally span the image vertically and be of sufficient size to give good statistical results. This seems to work fairly well for absorption and refraction images but fails badly with USAXS images.\n",
    "\n",
    "Select an overlap. If the images were collected with a negative step, the images need to be flipped. The overlap region is averaged between the images.\n",
    "\n",
    "Use a function so that this can be called for each set of results."
   ]
  },
  {
   "cell_type": "code",
   "execution_count": null,
   "metadata": {},
   "outputs": [],
   "source": [
    "ref = [600,1600,-1,-1] # [LEFT, RIGHT, TOP, BOTTOM] -1 for limit\n",
    "dtype = 'float'\n",
    "overlap = 40\n",
    "invert = True  # flip images if stage was moved up for each step\n",
    "blend = True  # linear blending\n",
    "scale = False  # use reference to scale images while merging\n",
    "def stitch_images(r_path, name, ref, overlap=0, flip=False, scale=False):\n",
    "    no_ref = [-1,-1,-1,-1]\n",
    "    images = sorted(glob.glob(os.path.join(r_path, name, '*.tif')))\n",
    "    refs = [io.load_img(f, ref) for f in images]\n",
    "    imgs = [io.load_img(f, no_ref) for f in images]\n",
    "    if scale:\n",
    "        m = [np.median(r) for r in refs]\n",
    "        print(name + ':' + str(m))\n",
    "        for i in range(len(imgs)):\n",
    "            imgs[i] *= m[0]/m[i]\n",
    "    if flip:\n",
    "        imgs = [np.flipud(im) for im in imgs]\n",
    "    # merge the images pair-wise\n",
    "    merged = reduce(lambda im1, im2: fm.merge_images(im1, im2, overlap, blend), imgs)\n",
    "    return merged\n",
    "# loop over list of results and process each one\n",
    "final = []\n",
    "for result in results:\n",
    "    A = stitch_images(r_path, result, ref, overlap, flip=invert, scale=scale)\n",
    "    # invert if needed depending on direction of scan\n",
    "    if not(invert):\n",
    "        A = np.flipud(A)\n",
    "    io.save_img(os.path.join(r_path, result + '.tif'), A, dtype)\n",
    "    final.append(A)"
   ]
  },
  {
   "cell_type": "markdown",
   "metadata": {},
   "source": [
    "## Look at the results"
   ]
  },
  {
   "cell_type": "code",
   "execution_count": null,
   "metadata": {},
   "outputs": [],
   "source": [
    "%matplotlib inline\n",
    "import matplotlib.pyplot as plt\n",
    "from skimage import exposure\n",
    "import scipy.ndimage\n",
    "median_filter = scipy.ndimage.median_filter\n",
    "m=3\n",
    "fig, axs = plt.subplots(ncols=2, nrows=2)\n",
    "for ax in axs.flat:\n",
    "        ax.set(xticks=[], yticks=[])\n",
    "def scale(im):\n",
    "    im = exposure.rescale_intensity(im, out_range='uint8')\n",
    "    im = im.astype('uint8')\n",
    "    return im\n",
    "\n",
    "axs[0,0].imshow(scale(median_filter(final[0], m)), cmap='gray')\n",
    "axs[0,0].set(xlabel='Abs')\n",
    "axs[0,1].imshow(scale(median_filter(final[1], m)), cmap='gray')\n",
    "axs[0,1].set(xlabel='Abs_log')\n",
    "axs[1,0].imshow(scale(median_filter(final[2], m)), cmap='gray')\n",
    "axs[1,0].set(xlabel='Refraction');\n",
    "axs[1,1].imshow(scale(median_filter(final[3], m)), cmap='gray')\n",
    "axs[1,1].set(xlabel='USAXS');"
   ]
  },
  {
   "cell_type": "code",
   "execution_count": null,
   "metadata": {},
   "outputs": [],
   "source": []
  }
 ],
 "metadata": {
  "kernelspec": {
   "display_name": "Python 3",
   "language": "python",
   "name": "python3"
  },
  "language_info": {
   "codemirror_mode": {
    "name": "ipython",
    "version": 3
   },
   "file_extension": ".py",
   "mimetype": "text/x-python",
   "name": "python",
   "nbconvert_exporter": "python",
   "pygments_lexer": "ipython3",
   "version": "3.7.4"
  }
 },
 "nbformat": 4,
 "nbformat_minor": 4
}
