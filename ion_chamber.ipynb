{
 "cells": [
  {
   "cell_type": "markdown",
   "id": "e4ea3bf7-b745-4a7d-974e-79a05c019e45",
   "metadata": {},
   "source": [
    "# Ion Chamber readings"
   ]
  },
  {
   "cell_type": "code",
   "execution_count": null,
   "id": "c1ef799d-77f3-452e-8750-2de853d14012",
   "metadata": {},
   "outputs": [],
   "source": [
    "# imports\n",
    "import os.path\n",
    "import io_files as io\n",
    "import numpy as np\n",
    "import json"
   ]
  },
  {
   "cell_type": "markdown",
   "id": "0170f339-b505-4d73-9d04-3d7f30c4d7e6",
   "metadata": {},
   "source": [
    "### Load settings"
   ]
  },
  {
   "cell_type": "code",
   "execution_count": null,
   "id": "8d74553d-225c-453c-a2cf-a82ff673c19c",
   "metadata": {},
   "outputs": [],
   "source": [
    "param = {}\n",
    "# set the settings file path\n",
    "param[\"s_name\"] = \"settings.json\"\n",
    "param[\"s_folder\"] = r\"H:\\github\\MultipleImageRadiography\"\n",
    "# read the content\n",
    "path_name = os.path.join(param[\"s_folder\"], param[\"s_name\"])\n",
    "with open(path_name, \"r\") as f:\n",
    "    param.update(json.load(f))\n",
    "print(param)"
   ]
  },
  {
   "cell_type": "markdown",
   "id": "4ab1e5f2-351c-48af-9654-3b156b85ec2b",
   "metadata": {},
   "source": [
    "## Look at the results"
   ]
  },
  {
   "cell_type": "code",
   "execution_count": null,
   "id": "dca92371-72cb-4113-923d-233c26c3efb7",
   "metadata": {},
   "outputs": [],
   "source": [
    "%matplotlib inline\n",
    "import matplotlib.pyplot as plt"
   ]
  }
 ],
 "metadata": {
  "kernelspec": {
   "display_name": "Python 3 (ipykernel)",
   "language": "python",
   "name": "python3"
  },
  "language_info": {
   "codemirror_mode": {
    "name": "ipython",
    "version": 3
   },
   "file_extension": ".py",
   "mimetype": "text/x-python",
   "name": "python",
   "nbconvert_exporter": "python",
   "pygments_lexer": "ipython3",
   "version": "3.11.4"
  }
 },
 "nbformat": 4,
 "nbformat_minor": 5
}
