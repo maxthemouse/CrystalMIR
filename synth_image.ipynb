{
 "cells": [
  {
   "cell_type": "markdown",
   "id": "ea2288fd-90a2-4148-b599-3f24d059f916",
   "metadata": {},
   "source": [
    "# Sythetic Images\n",
    "\n",
    "Create images using the fitting parameters. "
   ]
  },
  {
   "cell_type": "markdown",
   "id": "c985e651-26f6-403e-976c-a9134abe7f1d",
   "metadata": {},
   "source": [
    "### Imports"
   ]
  },
  {
   "cell_type": "code",
   "execution_count": null,
   "id": "600fa1b4-7d17-4548-b6e6-988d751811f3",
   "metadata": {},
   "outputs": [],
   "source": [
    "# imports\n",
    "import os.path\n",
    "import io_files as io\n",
    "import numpy as np\n",
    "import json"
   ]
  },
  {
   "cell_type": "markdown",
   "id": "8099c581-a0b4-47de-8bde-782d1cf8e64b",
   "metadata": {},
   "source": [
    "### Load Setting"
   ]
  },
  {
   "cell_type": "code",
   "execution_count": null,
   "id": "1f8bba82-5bab-42da-bb79-ae9406e1448b",
   "metadata": {},
   "outputs": [],
   "source": [
    "# load default dictionary to put the values\n",
    "param = {}\n",
    "# set the settings file path\n",
    "param[\"s_name\"] = \"settings.json\"\n",
    "param[\"s_folder\"] = r\"H:\\github\\MultipleImageRadiography\"\n",
    "# read the content\n",
    "path_name = os.path.join(param[\"s_folder\"], param[\"s_name\"])\n",
    "with open(path_name, \"r\") as f:\n",
    "    param.update(json.load(f))\n",
    "print(param)"
   ]
  },
  {
   "cell_type": "markdown",
   "id": "73bef21f-02c1-4243-86ed-044dc62fcec9",
   "metadata": {},
   "source": [
    "### Load results\n",
    "\n",
    "Load data from npz files"
   ]
  },
  {
   "cell_type": "code",
   "execution_count": null,
   "id": "68eb7549-7c3c-481d-b6ef-f7dadcedd477",
   "metadata": {},
   "outputs": [],
   "source": [
    "out = io.Text_Output()\n",
    "Num = 6\n",
    "\n",
    "def load_result(d_path):\n",
    "    result = []\n",
    "    if os.path.exists(d_path):\n",
    "        results = np.load(d_path, mmap_mode=\"r\")\n",
    "        out.showMessage(list(key for key in results.keys()))\n",
    "        result = [results[key] for key in results.keys()]\n",
    "    else:\n",
    "        out.showMessage(f'File: {d_path} not found')\n",
    "    return result\n",
    "\n",
    "\n",
    "# set if there are two flats\n",
    "param[\"flat2\"] = True\n",
    "# flat1\n",
    "result1 = load_result(os.path.join(param[\"output_dir\"], param[\"result_dir\"], \"flat_fit.npz\"))\n",
    "# image, adjust name of image file\n",
    "result2 = load_result(os.path.join(param[\"output_dir\"], param[\"result_dir\"], f\"image_fit_{Num}.npz\"))\n",
    "# flat2 if present\n",
    "result3 = []\n",
    "if param[\"flat2\"]:\n",
    "    result3 = load_result(os.path.join(param[\"output_dir\"], param[\"result_dir\"], \"flat2_fit.npz\"))\n",
    "    # combine results1 and results3\n",
    "    result4 = list(map(lambda x, y: (x + y) / 2, result1, result3))\n",
    "else:\n",
    "    result4 = result1\n"
   ]
  },
  {
   "cell_type": "markdown",
   "id": "b968f2c3-bb84-41c5-8e84-f903c244e555",
   "metadata": {},
   "source": [
    "## Create Image\n",
    "\n",
    "Pick a sigma from the center to calculate. The flat image is used as the reference."
   ]
  },
  {
   "cell_type": "code",
   "execution_count": null,
   "id": "5a2794db-26ae-4292-981f-9a2c34e1b30b",
   "metadata": {},
   "outputs": [],
   "source": [
    "def e_func(f):\n",
    "    def g(x):\n",
    "        return np.exp(f(x))\n",
    "\n",
    "    return g\n",
    "\n",
    "factor = 3\n",
    "dtype = param[\"dtype\"]\n",
    "\n",
    "xsize, ysize = result1[0].shape\n",
    "s_image = np.zeros(result2[0].shape, dtype=float)\n",
    "for X in range(xsize):\n",
    "    for Y in range(ysize):\n",
    "        f_a, f_b, f_c = [result4[i][X, Y] for i in range(3, 6)]\n",
    "        i_a, i_b, i_c = [result2[i][X, Y] for i in range(3, 6)]\n",
    "        f_ln_fit = np.poly1d([f_c, f_b, f_a])\n",
    "        i_ln_fit = np.poly1d([i_c, i_b, i_a])\n",
    "        f_fit = e_func(f_ln_fit)\n",
    "        i_fit = e_func(i_ln_fit)\n",
    "        mu = -f_b/2*f_c\n",
    "        sigma2 = -1.0 / (2.0 * f_c)\n",
    "        sigma = np.sqrt(abs(sigma2))\n",
    "        x_value = mu + factor*sigma\n",
    "        s_image[X,Y] = i_fit(x_value)/f_fit(x_value)\n",
    "\n",
    "io.mkdir(os.path.join(param[\"output_dir\"], param[\"result_dir\"], f'{factor}sigma'))\n",
    "io.save_img(os.path.join(param[\"output_dir\"], param[\"result_dir\"], f'{factor}sigma', f'image_synth_{Num}.tif'), s_image, dtype)"
   ]
  },
  {
   "cell_type": "code",
   "execution_count": null,
   "id": "3c53eb27-a520-4846-b7a8-fcc9b30e0fcd",
   "metadata": {},
   "outputs": [],
   "source": []
  },
  {
   "cell_type": "code",
   "execution_count": null,
   "id": "bcbaa7a1-8888-49ba-973c-9b923e99b8bd",
   "metadata": {},
   "outputs": [],
   "source": []
  },
  {
   "cell_type": "code",
   "execution_count": null,
   "id": "42605180-f351-41df-8b02-7e4e75ba57a0",
   "metadata": {},
   "outputs": [],
   "source": []
  }
 ],
 "metadata": {
  "kernelspec": {
   "display_name": "Python 3 (ipykernel)",
   "language": "python",
   "name": "python3"
  },
  "language_info": {
   "codemirror_mode": {
    "name": "ipython",
    "version": 3
   },
   "file_extension": ".py",
   "mimetype": "text/x-python",
   "name": "python",
   "nbconvert_exporter": "python",
   "pygments_lexer": "ipython3",
   "version": "3.11.4"
  }
 },
 "nbformat": 4,
 "nbformat_minor": 5
}
