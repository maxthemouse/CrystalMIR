{
 "cells": [
  {
   "cell_type": "markdown",
   "id": "2b6d3b9a-0cbe-41cb-831b-7a9ea97b03c5",
   "metadata": {},
   "source": [
    "# Dynamic Adjustment\n",
    "\n",
    "The stitched images show banding due to shifts in the results. These may be due to instability in the beam and in shifts in the motion of the crystal. It may be possible to make some adjustments in the analysis to account for dynamic changes in the data."
   ]
  },
  {
   "cell_type": "markdown",
   "id": "e20bbc68-9589-453f-baad-e3783f72e9bc",
   "metadata": {},
   "source": [
    "### Imports"
   ]
  },
  {
   "cell_type": "code",
   "execution_count": null,
   "id": "f5ef8bca-54d3-4fb7-835f-319670cb308a",
   "metadata": {},
   "outputs": [],
   "source": [
    "# imports\n",
    "import io_files as io\n",
    "import fit_mir as fm\n",
    "import time\n",
    "import os\n",
    "import os.path\n",
    "import json\n",
    "import scipy.ndimage"
   ]
  },
  {
   "cell_type": "markdown",
   "id": "7033f02b-7383-483a-bee9-fc36b2dc1960",
   "metadata": {},
   "source": [
    "### Load Setting"
   ]
  },
  {
   "cell_type": "code",
   "execution_count": null,
   "id": "45f26a5d-1b2c-4e38-a461-e05b5669b7f8",
   "metadata": {},
   "outputs": [],
   "source": [
    "param = {}\n",
    "# set the settings file path\n",
    "param[\"s_name\"] = \"settings.json\"\n",
    "param[\"s_folder\"] = r\"H:\\github\\MultipleImageRadiography\"\n",
    "# read the content\n",
    "path_name = os.path.join(param[\"s_folder\"], param[\"s_name\"])\n",
    "with open(path_name, \"r\") as f:\n",
    "    param.update(json.load(f))\n",
    "print(param)"
   ]
  },
  {
   "cell_type": "markdown",
   "id": "e16ced49-899c-4ba0-a9eb-939eb87c1b7f",
   "metadata": {},
   "source": [
    "### do the work"
   ]
  },
  {
   "cell_type": "code",
   "execution_count": null,
   "id": "d6f361fb-e63e-4b09-aa65-75b7b6c46e4f",
   "metadata": {},
   "outputs": [],
   "source": [
    "out = io.Text_Output()\n",
    "Num = 6\n",
    "\n",
    "def calc_all(param):\n",
    "    start_all = time.time()\n",
    "    time_each = []\n",
    "    output = io.Text_Output()\n",
    "    param[\"output\"] = output\n",
    "    param[\"set_ref\"] = True\n",
    "    for data in param[\"data_dirs\"]:\n",
    "        start_each = time.time()\n",
    "        output.showMessage(\"Now working on {}.\".format(data))\n",
    "        param[\"data_dir\"] = data\n",
    "        io.create_paths(param, output)\n",
    "        image, flat_image, flat2_image = io.load_data(param, param[\"crop\"])\n",
    "        output.showMessage(\n",
    "            \"No of images loaded are: {}, {}, {}. All should have the same value.\".format(\n",
    "                len(image), len(flat_image), len(flat2_image)\n",
    "            )\n",
    "        )\n",
    "        result1, result2 = fm.fit_dirs_ref(\n",
    "            param, output, image, flat_image, flat2_image, param[\"threshold\"]\n",
    "        )\n",
    "        _filter = scipy.ndimage.median_filter\n",
    "        param[\"image_filter\"] = _filter\n",
    "        io.save_results(param, result1, result2)\n",
    "        param[\"set_ref\"] = False # only do ref once\n",
    "        end_each = time.time()\n",
    "        time_each.append(end_each - start_each)\n",
    "    end_all = time.time()\n",
    "    each_ave = (sum(time_each) / len(time_each)) / 60.0\n",
    "    total = (end_all - start_all) / 60.0\n",
    "    output.showMessage(\n",
    "        \"Finished all folders.\\nTotal Time = {:6.2f} min, time per folder = {:6.2f} min.\".format(\n",
    "            total, each_ave\n",
    "        )\n",
    "    )\n",
    "\n",
    "\n",
    "chk_dir = [\n",
    "    os.path.exists(os.path.join(param[\"root_dir\"], sub_dir))\n",
    "    for sub_dir in param[\"data_dirs\"]\n",
    "]\n",
    "if all(chk_dir):\n",
    "    calc_all(param)\n",
    "else:\n",
    "    print(\"Not all data folders were found. Check input.\")"
   ]
  },
  {
   "cell_type": "code",
   "execution_count": null,
   "id": "59cd4048-7717-4171-8daa-629f0c03ac6d",
   "metadata": {},
   "outputs": [],
   "source": []
  }
 ],
 "metadata": {
  "kernelspec": {
   "display_name": "Python 3 (ipykernel)",
   "language": "python",
   "name": "python3"
  },
  "language_info": {
   "codemirror_mode": {
    "name": "ipython",
    "version": 3
   },
   "file_extension": ".py",
   "mimetype": "text/x-python",
   "name": "python",
   "nbconvert_exporter": "python",
   "pygments_lexer": "ipython3",
   "version": "3.11.4"
  }
 },
 "nbformat": 4,
 "nbformat_minor": 5
}
