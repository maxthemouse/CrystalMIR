{
 "cells": [
  {
   "cell_type": "markdown",
   "id": "b1cd02a1-8d0f-4873-ab52-465e5f2fc966",
   "metadata": {},
   "source": [
    "# Rocking Curves"
   ]
  },
  {
   "cell_type": "markdown",
   "id": "ca427425-bed1-44b6-a3e6-941d87b97795",
   "metadata": {},
   "source": [
    "## calc rocking curve with xrt"
   ]
  },
  {
   "cell_type": "code",
   "execution_count": null,
   "id": "cbb6b982-0b03-4760-bab8-3f7bbf0e38d0",
   "metadata": {},
   "outputs": [],
   "source": [
    "import numpy as np\n",
    "from scipy.interpolate import UnivariateSpline\n",
    "import matplotlib.pyplot as plt\n",
    "import xrt.backends.raycing.materials as rm\n",
    "import xrt.backends.raycing.materials_crystals as rmc\n",
    "\n",
    "crystal = rmc.Si(hkl=(2, 2, 0))\n",
    "E = 33300\n",
    "# crystal, E = rm.CrystalFromCell(xtl), 33300\n",
    "dtheta = np.linspace(-30, 40, 601)\n",
    "dt = dtheta[1] - dtheta[0]\n",
    "theta = crystal.get_Bragg_angle(E) + dtheta*1e-6\n",
    "refl = np.abs(crystal.get_amplitude(E, np.sin(theta))[0])**2  # s-polarization\n",
    "#rc = np.convolve(refl, refl, 'same') / (refl.sum()*dt) * dt\n",
    "refl_sq = refl*refl\n",
    "rc = np.convolve(refl_sq, refl, 'same') / refl_sq.sum()\n",
    "spline = UnivariateSpline(dtheta, rc-rc.max()/2, s=0)\n",
    "r1, r2 = spline.roots()  # find the roots\n",
    "\n",
    "plt.plot(dtheta, refl, 'r', label=u'one crystal\\nFWHM = {0:.1f} µrad'.format(\n",
    "    crystal.get_Darwin_width(E)*1e6))\n",
    "plt.plot(dtheta, rc, 'b', label=u'two crystal\\n(convolution)'\n",
    "         u'\\nFWHM = {0:.1f} µrad'.format(r2-r1))\n",
    "plt.gca().set_xlabel(u'$\\\\theta - \\\\theta_{B}$ (µrad)')\n",
    "plt.gca().set_ylabel(r'reflectivity')\n",
    "plt.axvspan(r1, r2, facecolor='g', alpha=0.2)\n",
    "plt.legend(loc='upper right', fontsize=12)\n",
    "\n",
    "text = u'Rocking curve of {0}{1[0]}{1[1]}{1[2]} at E={2:.0f} eV'.format(\n",
    "    crystal.name, crystal.hkl, E)\n",
    "plt.text(0.5, 1.02, text, transform=plt.gca().transAxes, size=15, ha='center')\n",
    "plt.show()\n",
    "\n",
    "with open(\"Rocking_curve_XRT_33_3.txt\", 'w') as f:\n",
    "    for i in range(len(rc)):\n",
    "        f.write(str(dtheta[i]) + \",     \" + str(rc[i]) + \"\\n\")"
   ]
  },
  {
   "cell_type": "markdown",
   "id": "a41faabc-a498-46bb-b345-79ab930a889f",
   "metadata": {},
   "source": [
    "## Peak fitting"
   ]
  },
  {
   "cell_type": "markdown",
   "id": "1645657f-b524-49c3-bc6f-833c4bebfb9b",
   "metadata": {},
   "source": [
    "## measured"
   ]
  },
  {
   "cell_type": "code",
   "execution_count": null,
   "id": "1d2c1ae1-abd4-4435-8df2-22a70945015d",
   "metadata": {},
   "outputs": [],
   "source": [
    "import pandas as pd\n",
    "flat_data = pd.read_csv(\"flat.dat\", header=None)\n",
    "plt.plot(flat_data[0], flat_data[1], 'bo')\n",
    "plt.show()"
   ]
  },
  {
   "cell_type": "code",
   "execution_count": null,
   "id": "0b5ec201-da20-4f0c-b250-f21ff5dd8e81",
   "metadata": {},
   "outputs": [],
   "source": [
    "from scipy.optimize import curve_fit\n",
    "from numpy import exp, pi\n",
    "\n",
    "\n",
    "def gauss(x, H, A, x0, sigma):\n",
    "    y = H + A * np.exp(-(x - x0) ** 2 / (2 * sigma ** 2))\n",
    "    return y\n",
    "\n",
    "\n",
    "def psvoigt(x,y0,A,x0,WL,WG,mu):\n",
    "\n",
    "    return y0 + A*((mu*WL**2)/((x-x0)**2+WL**2)\n",
    "                   + (1-mu)*exp(-(x - x0) ** 2 / (2 * WG ** 2)))\n",
    "\n",
    "\n",
    "# unmodified\n",
    "xdata = flat_data[0]\n",
    "ydata = flat_data[1]\n",
    "# use results below to scale data\n",
    "# xdata = np.linspace(-5.230154*2, 5.230154*2, len(flat_data[0]))\n",
    "# ydata = flat_data[1] * 0.3855519133586996\n",
    "\n",
    "parameters, covariance = curve_fit(gauss, xdata, ydata, maxfev=10000)\n",
    "\n",
    "\n",
    "fit_y = gauss(xdata, *parameters)\n",
    "plt.plot(xdata, ydata, 'o', label='data')\n",
    "plt.plot(xdata, fit_y, '-', label='fit')\n",
    "plt.legend()\n"
   ]
  },
  {
   "cell_type": "code",
   "execution_count": null,
   "id": "c9e73811-ceb3-473d-b372-4abcfe0283d6",
   "metadata": {},
   "outputs": [],
   "source": [
    "print(parameters)"
   ]
  },
  {
   "cell_type": "markdown",
   "id": "0f7f7c68-a192-4664-a610-e0677d140e55",
   "metadata": {},
   "source": [
    "## calculated"
   ]
  },
  {
   "cell_type": "code",
   "execution_count": null,
   "id": "b91f2050-43b8-43d1-87d1-8c5595f25482",
   "metadata": {},
   "outputs": [],
   "source": [
    "calc_data = pd.read_csv(\"Rocking_curve_XRT_33_3.txt\", header=None)\n",
    "calc_data\n",
    "# plt.plot(calc_data[0], calc_data[1], 'bo')\n",
    "# plt.show()"
   ]
  },
  {
   "cell_type": "code",
   "execution_count": null,
   "id": "8d186bad-6a68-4dde-a200-47281cc20c79",
   "metadata": {},
   "outputs": [],
   "source": [
    "xdata2 = calc_data[0]\n",
    "ydata2 = calc_data[1]\n",
    "parameters2, covariance2 = curve_fit(gauss, xdata2, ydata2)\n",
    "\n",
    "fit_y2 = gauss(xdata2, *parameters2)\n",
    "plt.plot(xdata2, ydata2, 'o', label='data')\n",
    "plt.plot(xdata2, fit_y2, '-', label='fit')\n",
    "plt.legend()"
   ]
  },
  {
   "cell_type": "code",
   "execution_count": null,
   "id": "22cdf99e-439e-464a-8a89-a20c7daf23de",
   "metadata": {},
   "outputs": [],
   "source": [
    "print(parameters2)"
   ]
  },
  {
   "cell_type": "markdown",
   "id": "a4048449-1d6b-416a-bd7f-9361f62efba7",
   "metadata": {},
   "source": [
    "### compare results\n",
    "Calculation has units of radian vs reflectivity and calculated are in usingts of mm vs voltage"
   ]
  },
  {
   "cell_type": "markdown",
   "id": "0eecc16d-9a38-4012-be37-eebf1e00cbea",
   "metadata": {},
   "source": [
    "### width"
   ]
  },
  {
   "cell_type": "code",
   "execution_count": null,
   "id": "21b1ea1a-e5b9-4d41-97fc-b7d5758861b2",
   "metadata": {},
   "outputs": [],
   "source": [
    "parameters2[3]/parameters[3] # width"
   ]
  },
  {
   "cell_type": "markdown",
   "id": "5405708a-9c21-4467-a557-a87c232064e2",
   "metadata": {},
   "source": [
    "### area"
   ]
  },
  {
   "cell_type": "code",
   "execution_count": null,
   "id": "2e97d348-614f-4ca6-a74d-c68116c6a8fa",
   "metadata": {},
   "outputs": [],
   "source": [
    "parameters2[1]/parameters[1] # area"
   ]
  },
  {
   "cell_type": "code",
   "execution_count": null,
   "id": "a045a845-540e-4598-9bcd-d2d2c6ae5176",
   "metadata": {},
   "outputs": [],
   "source": [
    "### x-axis limit"
   ]
  },
  {
   "cell_type": "code",
   "execution_count": null,
   "id": "d4deceeb-3f1f-41c7-84d0-51eb0574a671",
   "metadata": {},
   "outputs": [],
   "source": [
    "parameters2[3]/parameters[3]*2  "
   ]
  },
  {
   "cell_type": "code",
   "execution_count": null,
   "id": "95b547a9-648b-482d-b586-0db5ec7c9dd0",
   "metadata": {},
   "outputs": [],
   "source": []
  }
 ],
 "metadata": {
  "kernelspec": {
   "display_name": "Python 3 (ipykernel)",
   "language": "python",
   "name": "python3"
  },
  "language_info": {
   "codemirror_mode": {
    "name": "ipython",
    "version": 3
   },
   "file_extension": ".py",
   "mimetype": "text/x-python",
   "name": "python",
   "nbconvert_exporter": "python",
   "pygments_lexer": "ipython3",
   "version": "3.9.12"
  }
 },
 "nbformat": 4,
 "nbformat_minor": 5
}
