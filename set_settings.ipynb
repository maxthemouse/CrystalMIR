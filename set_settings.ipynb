{
 "cells": [
  {
   "cell_type": "markdown",
   "id": "e168ea50-43c7-4ac7-9c37-8ecf17a996b7",
   "metadata": {},
   "source": [
    "# Settings\n",
    "\n",
    "Set the parameters for the calculations. Each calculation page should read the parameter file to avoid having to repeat the settings in each page."
   ]
  },
  {
   "cell_type": "markdown",
   "id": "9421dfae-a53b-4b86-8923-31e725776c52",
   "metadata": {},
   "source": [
    "## Parameter File"
   ]
  },
  {
   "cell_type": "code",
   "execution_count": 4,
   "id": "e73ec236-d91c-4dc9-9b1c-b8856d7e9b22",
   "metadata": {},
   "outputs": [],
   "source": [
    "import json\n",
    "import os.path\n",
    "\n",
    "param = {}\n",
    "# set the settings file\n",
    "param[\"s_name\"] = \"settings.json\"\n",
    "param[\"s_folder\"] = r\"D:\\projects\\MultipleImageRadiography\""
   ]
  },
  {
   "cell_type": "markdown",
   "id": "261b7758-c823-4400-86c8-dc03ca0416e0",
   "metadata": {},
   "source": [
    "## Data Location"
   ]
  },
  {
   "cell_type": "code",
   "execution_count": 5,
   "id": "aefef6ff-b5a2-425b-809f-b5000c8fd0c4",
   "metadata": {},
   "outputs": [],
   "source": [
    "# set the root folders\n",
    "param[\"root_dir\"] = r\"G:\\path\\to\\data\"\n",
    "param[\"data_dir\"] = r\"01\"\n",
    "param[\"dark_dir\"] = r\"05\"\n",
    "param[\"flat_dir\"] = r\"01\"\n",
    "param[\"flat2_dir\"] = r\"05\"  # set to \"\" if not present\n",
    "# set the results folders"
   ]
  },
  {
   "cell_type": "markdown",
   "id": "2e649d2b-9921-4249-82f1-3d45300f1ae2",
   "metadata": {},
   "source": [
    "## Data Parameters"
   ]
  },
  {
   "cell_type": "code",
   "execution_count": 6,
   "id": "a8876b0a-c9bd-4921-977d-c7344833ab38",
   "metadata": {},
   "outputs": [],
   "source": [
    "# crop = [700,3600,125,250] # [LEFT, RIGHT, TOP, BOTTOM] -1 for limits\n",
    "param[\"crop\"] = [-1, -1, -1, -1]  # crop area for analysis\n",
    "param[\"threshold\"] = 0.1\n",
    "param[\"save_result_npz\"] = True  # save fit results in npz file\n",
    "param[\"save_images\"] = False  # save fit results as tiff images\n",
    "# stiching\n",
    "param[\"overlap\"] = 40\n",
    "param[\"invert\"] = True  # flip images if stage was moved up for each step\n",
    "param[\"blend\"] = True  # linear blending\n",
    "param[\"ref\"] = [600, 1600, -1, -1]  # reference area for intesity scaling\n",
    "param[\"scale\"] = False  # use reference to scale images while merging"
   ]
  },
  {
   "cell_type": "markdown",
   "id": "43a0455b-09b5-49c4-97c9-4751214721f8",
   "metadata": {},
   "source": [
    "### Save settings"
   ]
  },
  {
   "cell_type": "code",
   "execution_count": 9,
   "id": "83083fe7-3dee-4e29-bec6-76fc2d66029c",
   "metadata": {},
   "outputs": [],
   "source": [
    "path_name = os.path.join(param[\"s_folder\"], param[\"s_name\"])\n",
    "with open(path_name, \"w\") as f:\n",
    "    json.dump(param, f)"
   ]
  }
 ],
 "metadata": {
  "kernelspec": {
   "display_name": "Python 3 (ipykernel)",
   "language": "python",
   "name": "python3"
  },
  "language_info": {
   "codemirror_mode": {
    "name": "ipython",
    "version": 3
   },
   "file_extension": ".py",
   "mimetype": "text/x-python",
   "name": "python",
   "nbconvert_exporter": "python",
   "pygments_lexer": "ipython3",
   "version": "3.8.10"
  }
 },
 "nbformat": 4,
 "nbformat_minor": 5
}
