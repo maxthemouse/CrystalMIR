{
 "cells": [
  {
   "cell_type": "markdown",
   "id": "e168ea50-43c7-4ac7-9c37-8ecf17a996b7",
   "metadata": {},
   "source": [
    "# Settings\n",
    "\n",
    "Set the parameters for the calculations. Each calculation page should read the parameter file to avoid having to repeat the settings in each page."
   ]
  },
  {
   "cell_type": "markdown",
   "id": "9421dfae-a53b-4b86-8923-31e725776c52",
   "metadata": {},
   "source": [
    "## Parameter File"
   ]
  },
  {
   "cell_type": "code",
   "execution_count": null,
   "id": "e73ec236-d91c-4dc9-9b1c-b8856d7e9b22",
   "metadata": {},
   "outputs": [],
   "source": [
    "import json\n",
    "import os.path\n",
    "import fit_mir as fm\n",
    "\n",
    "# load default dictionary to put the values\n",
    "param = {}\n",
    "# set the settings file\n",
    "param[\"s_name\"] = \"settings.json\"\n",
    "param[\"s_folder\"] = r\"C:\\projects\\github\\MultipleImageRadiography\""
   ]
  },
  {
   "cell_type": "markdown",
   "id": "261b7758-c823-4400-86c8-dc03ca0416e0",
   "metadata": {},
   "source": [
    "## Data Location"
   ]
  },
  {
   "cell_type": "code",
   "execution_count": null,
   "id": "aefef6ff-b5a2-425b-809f-b5000c8fd0c4",
   "metadata": {},
   "outputs": [],
   "source": [
    "# set the root folders\n",
    "param[\"root_dir\"] = r\"C:\\Dropbox\\Projects\\DEI\\data\\C1M1R\"\n",
    "param[\"output_dir\"] = r\"C:\\Dropbox\\tmp\\C1M1R\"  # set to \"\" to use root folder\n",
    "if param[\"output_dir\"] == \"\":\n",
    "    param[\"output_dir\"] = param[\"root_dir\"]\n",
    "param[\"data_dir\"] = r\"1\"\n",
    "param[\"data_dirs\"] = [\"1\", \"2\", \"3\", \"4\", \"5\", \"6\"]\n",
    "param[\"dark_dir\"] = r\"1\"\n",
    "param[\"flat_dir\"] = r\"1\"\n",
    "param[\"flat2_dir\"] = r\"6\"  # set to \"\" if not present\n",
    "# set the results folders"
   ]
  },
  {
   "cell_type": "markdown",
   "id": "2e649d2b-9921-4249-82f1-3d45300f1ae2",
   "metadata": {},
   "source": [
    "## Data Parameters"
   ]
  },
  {
   "cell_type": "code",
   "execution_count": null,
   "id": "a8876b0a-c9bd-4921-977d-c7344833ab38",
   "metadata": {},
   "outputs": [],
   "source": [
    "# crop = [-1, -1, -1, -1] # [LEFT, RIGHT, TOP, BOTTOM] -1 for limits\n",
    "param[\"crop\"] = [275, 2870, 12, 190]  # crop area for analysis\n",
    "param[\"threshold\"] = 0.1\n",
    "param[\"save_result_npz\"] = True  # save fit results in npz file\n",
    "param[\"save_images\"] = False  # save fit results as tiff images\n",
    "param[\"dtype\"] = \"float\"  # type for saving images\n",
    "param[\"filter_width\"] = 3 # filter width\n",
    "param[\"Calc_res\"] = True  # flag to calculate r-squared, output zeros if false\n",
    "# stiching\n",
    "param[\"result_dir\"] = \"result\"\n",
    "param[\"overlap\"] = 60\n",
    "param[\"invert\"] = True  # flip images if stage was moved up for each step\n",
    "param[\"blend\"] = True  # linear blending\n",
    "param[\"ref\"] = [600, 1600, -1, -1]  # reference area for intesity scaling\n",
    "param[\"scale\"] = False  # use reference to scale images while merging\n",
    "param[\"results\"] = [r\"Abs\", r\"Abs_log\", r\"Refraction\", r\"USAXS\", r\"R2\", \"Area\", \"Radio\"]"
   ]
  },
  {
   "cell_type": "markdown",
   "id": "43a0455b-09b5-49c4-97c9-4751214721f8",
   "metadata": {},
   "source": [
    "### Save settings"
   ]
  },
  {
   "cell_type": "code",
   "execution_count": null,
   "id": "83083fe7-3dee-4e29-bec6-76fc2d66029c",
   "metadata": {},
   "outputs": [],
   "source": [
    "path_name = os.path.join(param[\"s_folder\"], param[\"s_name\"])\n",
    "with open(path_name, \"w\") as f:\n",
    "    json.dump(param, f)"
   ]
  },
  {
   "cell_type": "markdown",
   "id": "d621f198-0c07-4e1b-acb5-4d1268af69c7",
   "metadata": {},
   "source": [
    "### Load settings"
   ]
  },
  {
   "cell_type": "code",
   "execution_count": null,
   "id": "80305444-7200-4dbd-b0f9-36d4008280c8",
   "metadata": {},
   "outputs": [],
   "source": [
    "import pprint\n",
    "with open(path_name, \"r\") as f:\n",
    "    parsed = json.load(f)\n",
    "#print(json.dumps(parsed, indent=4, sort_keys=True))\n",
    "pprint.pprint(parsed)"
   ]
  }
 ],
 "metadata": {
  "kernelspec": {
   "display_name": "Python 3 (ipykernel)",
   "language": "python",
   "name": "python3"
  },
  "language_info": {
   "codemirror_mode": {
    "name": "ipython",
    "version": 3
   },
   "file_extension": ".py",
   "mimetype": "text/x-python",
   "name": "python",
   "nbconvert_exporter": "python",
   "pygments_lexer": "ipython3",
   "version": "3.9.7"
  }
 },
 "nbformat": 4,
 "nbformat_minor": 5
}
