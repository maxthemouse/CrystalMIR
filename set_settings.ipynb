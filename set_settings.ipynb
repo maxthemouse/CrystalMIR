{
 "cells": [
  {
   "cell_type": "markdown",
   "id": "0",
   "metadata": {},
   "source": [
    "# Settings\n",
    "\n",
    "Set the parameters for the calculations. Each calculation page should read the parameter file to avoid having to repeat the settings in each page."
   ]
  },
  {
   "cell_type": "markdown",
   "id": "1",
   "metadata": {},
   "source": [
    "## Parameter File"
   ]
  },
  {
   "cell_type": "code",
   "execution_count": 11,
   "id": "2",
   "metadata": {},
   "outputs": [
    {
     "name": "stdout",
     "output_type": "stream",
     "text": [
      "{'s_name': 'settings.json', 's_folder': 'E:\\\\WPy64-31241\\\\notebooks\\\\CrystalMIR'}\n"
     ]
    }
   ],
   "source": [
    "import json\n",
    "import os, os.path\n",
    "from dotenv import load_dotenv\n",
    "\n",
    "# load default dictionary to put the values\n",
    "param = {}\n",
    "# set the settings file\n",
    "load_dotenv()\n",
    "param[\"s_name\"] = os.getenv(\"S_NAME\")\n",
    "param[\"s_folder\"] = os.getenv(\"S_FOLDER\")\n",
    "print(param)"
   ]
  },
  {
   "cell_type": "markdown",
   "id": "3",
   "metadata": {},
   "source": [
    "## Data Location"
   ]
  },
  {
   "cell_type": "code",
   "execution_count": null,
   "id": "4",
   "metadata": {},
   "outputs": [],
   "source": [
    "# set the root folders\n",
    "# set path to root of data, use following line as example\n",
    "param[\"root_dir\"] = r\"E:\\path\\to\\data\"\n",
    "\n",
    "param[\"output_dir\"] = r\"\"  # set to \"\" to use root folder\n",
    "if param[\"output_dir\"] == \"\":\n",
    "    param[\"output_dir\"] = param[\"root_dir\"]\n",
    "param[\"data_dir\"] = r\"z00\"\n",
    "#param[\"data_dirs\"] = [\"z00\", \"z01\", \"z02\", \"z03\", \"z04\", \"z05\", \"z06\", \"z07\", \"z08\"]\n",
    "param[\"data_dirs\"] = [\"z00\", \"z01\", \"z02\", \"z03\", \"z04\"]\n",
    "param[\"dark_dir\"] = r\"z00\"\n",
    "param[\"flat_dir\"] = r\"z00\"\n",
    "param[\"flat2_dir\"] = r\"\"  # set to \"\" if not present\n",
    "# set the results folders"
   ]
  },
  {
   "cell_type": "markdown",
   "id": "5",
   "metadata": {},
   "source": [
    "## Data Parameters"
   ]
  },
  {
   "cell_type": "code",
   "execution_count": null,
   "id": "6",
   "metadata": {},
   "outputs": [],
   "source": [
    "# crop = [-1, -1, -1, -1] # [LEFT, RIGHT, TOP, BOTTOM] -1 for limits\n",
    "#param[\"crop\"] = [315, 3060, 1, 141]  # crop area for analysis\n",
    "#param[\"crop\"] = [315, 3060, 34, 174]  # crop area for analysis\n",
    "#param[\"crop\"] = [315, 3060, 30, 170]  # crop area for analysis\n",
    "param[\"crop\"] = [550, 3170, 40, -1]  # crop area for analysis\n",
    "param[\"ref\"] = [2150, 2400, 10, 120]  # reference area for analysis\n",
    "# param[\"crop\"] = [160, 2800, 60, 190]  # crop area for analysis\n",
    "param[\"threshold\"] = 0.1\n",
    "param[\"save_result_npz\"] = True  # save fit results in npz file\n",
    "param[\"save_images\"] = False  # save fit results as tiff images\n",
    "param[\"dtype\"] = \"float\"  # type for saving images\n",
    "param[\"filter_width\"] = 3 # filter width\n",
    "param[\"Calc_res\"] = True  # flag to calculate r-squared, output zeros if false\n",
    "# stiching\n",
    "param[\"result_dir\"] = \"result\"\n",
    "param[\"overlap\"] = 56\n",
    "param[\"invert\"] = True  # flip images if stage was moved up for each step\n",
    "param[\"blend\"] = True  # linear blending\n",
    "param[\"ref\"] = [600, 1600, -1, -1]  # reference area for intesity scaling\n",
    "param[\"scale\"] = False  # use reference to scale images while merging\n",
    "param[\"results\"] = [r\"Abs\", r\"Abs_log\", r\"Refraction\", r\"USAXS\", r\"R2\", \"Area\", \"Radio\"]\n",
    "param[\"xaxis\"] = (-10.46, 10.46) # range for x-axis in fitting\n",
    "param[\"bigtiff_in\"] = False  # use big tiff\n",
    "param[\"sigma_factor\"] = 3  # sigma to use to calculate synthetic image"
   ]
  },
  {
   "cell_type": "markdown",
   "id": "7",
   "metadata": {},
   "source": [
    "### Save settings"
   ]
  },
  {
   "cell_type": "code",
   "execution_count": null,
   "id": "8",
   "metadata": {},
   "outputs": [],
   "source": [
    "path_name = os.path.join(param[\"s_folder\"], param[\"s_name\"])\n",
    "with open(path_name, \"w\") as f:\n",
    "    json.dump(param, f)"
   ]
  },
  {
   "cell_type": "markdown",
   "id": "9",
   "metadata": {},
   "source": [
    "### Load settings"
   ]
  },
  {
   "cell_type": "code",
   "execution_count": null,
   "id": "10",
   "metadata": {},
   "outputs": [],
   "source": [
    "import pprint\n",
    "with open(path_name, \"r\") as f:\n",
    "    parsed = json.load(f)\n",
    "#print(json.dumps(parsed, indent=4, sort_keys=True))\n",
    "pprint.pprint(parsed)"
   ]
  },
  {
   "cell_type": "code",
   "execution_count": null,
   "id": "6af6b6ba-a137-434c-9395-3784699dce9f",
   "metadata": {},
   "outputs": [],
   "source": []
  }
 ],
 "metadata": {
  "kernelspec": {
   "display_name": "Python 3 (ipykernel)",
   "language": "python",
   "name": "python3"
  },
  "language_info": {
   "codemirror_mode": {
    "name": "ipython",
    "version": 3
   },
   "file_extension": ".py",
   "mimetype": "text/x-python",
   "name": "python",
   "nbconvert_exporter": "python",
   "pygments_lexer": "ipython3",
   "version": "3.12.3"
  }
 },
 "nbformat": 4,
 "nbformat_minor": 5
}
