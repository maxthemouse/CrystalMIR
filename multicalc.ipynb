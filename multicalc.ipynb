{
 "cells": [
  {
   "cell_type": "markdown",
   "metadata": {},
   "source": [
    "# Multiple Calculations\n",
    "Do all sub-folders. Note that no results are shown."
   ]
  },
  {
   "cell_type": "code",
   "execution_count": 1,
   "metadata": {},
   "outputs": [],
   "source": [
    "# imports\n",
    "import io_files as io\n",
    "import fit_mir as fm\n",
    "import time\n",
    "import os\n",
    "import os.path\n",
    "\n",
    "# load default dictionary to put the values\n",
    "param = fm.mir_defaults\n",
    "# set the parameters\n",
    "param[\"root_dir\"] = r\"G:\\path\\to\\data\"\n",
    "param[\"data_dir\"] = \"\"\n",
    "param[\"data_dirs\"] = [\"1\", \"2\", \"3\", \"4\", \"5\", \"6\"]\n",
    "param[\"dark_dir\"] = \"1\"\n",
    "param[\"flat_dir\"] = \"6\"\n",
    "param[\"flat2_dir\"] = \"6\"  # set to \"\" if not present\n",
    "param[\"crop\"] = [275, 2870, 12, 190]  # crop area to use\n",
    "param[\"threshold\"] = 0.10\n",
    "param[\"save_result_npz\"] = True  # save fit results in npz file\n",
    "param[\"save_images\"] = False  # save fit results as tiff images"
   ]
  },
  {
   "cell_type": "code",
   "execution_count": 2,
   "metadata": {},
   "outputs": [
    {
     "name": "stdout",
     "output_type": "stream",
     "text": [
      "Now working on 1.\n",
      "D:\\Dropbox\\Projects\\DEI\\data\\C1M1R\\1\\darks\n",
      "True\n",
      "D:\\Dropbox\\Projects\\DEI\\data\\C1M1R\\6\\flat\n",
      "True\n",
      "D:\\Dropbox\\Projects\\DEI\\data\\C1M1R\\6\\flat\n",
      "True\n",
      "D:\\Dropbox\\Projects\\DEI\\data\\C1M1R\\1\\image\n",
      "True\n",
      "No of images loaded are: 14, 14, 14. All should have the same value.\n"
     ]
    },
    {
     "name": "stderr",
     "output_type": "stream",
     "text": [
      "0% [##############################] 100% | ETA: 00:00:00\n",
      "Total time elapsed: 00:01:44\n",
      "0% [##############################] 100% | ETA: 00:00:00\n",
      "Total time elapsed: 00:01:47\n",
      "0% [##############################] 100% | ETA: 00:00:00\n",
      "Total time elapsed: 00:01:51\n"
     ]
    },
    {
     "name": "stdout",
     "output_type": "stream",
     "text": [
      "Now working on 2.\n",
      "D:\\Dropbox\\Projects\\DEI\\data\\C1M1R\\1\\darks\n",
      "True\n",
      "D:\\Dropbox\\Projects\\DEI\\data\\C1M1R\\6\\flat\n",
      "True\n",
      "D:\\Dropbox\\Projects\\DEI\\data\\C1M1R\\6\\flat\n",
      "True\n",
      "D:\\Dropbox\\Projects\\DEI\\data\\C1M1R\\2\\image\n",
      "True\n",
      "No of images loaded are: 14, 14, 14. All should have the same value.\n",
      "['arr_0', 'arr_1', 'arr_2', 'arr_3', 'arr_4', 'arr_5', 'arr_6', 'arr_7', 'arr_8', 'arr_9']\n"
     ]
    },
    {
     "name": "stderr",
     "output_type": "stream",
     "text": [
      "0% [##############################] 100% | ETA: 00:00:00\n",
      "Total time elapsed: 00:01:45\n"
     ]
    },
    {
     "name": "stdout",
     "output_type": "stream",
     "text": [
      "['arr_0', 'arr_1', 'arr_2', 'arr_3', 'arr_4', 'arr_5', 'arr_6', 'arr_7', 'arr_8', 'arr_9']\n",
      "Now working on 3.\n",
      "D:\\Dropbox\\Projects\\DEI\\data\\C1M1R\\1\\darks\n",
      "True\n",
      "D:\\Dropbox\\Projects\\DEI\\data\\C1M1R\\6\\flat\n",
      "True\n",
      "D:\\Dropbox\\Projects\\DEI\\data\\C1M1R\\6\\flat\n",
      "True\n",
      "D:\\Dropbox\\Projects\\DEI\\data\\C1M1R\\3\\image\n",
      "True\n",
      "No of images loaded are: 14, 14, 14. All should have the same value.\n",
      "['arr_0', 'arr_1', 'arr_2', 'arr_3', 'arr_4', 'arr_5', 'arr_6', 'arr_7', 'arr_8', 'arr_9']\n"
     ]
    },
    {
     "name": "stderr",
     "output_type": "stream",
     "text": [
      "0% [##############################] 100% | ETA: 00:00:00\n",
      "Total time elapsed: 00:01:45\n"
     ]
    },
    {
     "name": "stdout",
     "output_type": "stream",
     "text": [
      "['arr_0', 'arr_1', 'arr_2', 'arr_3', 'arr_4', 'arr_5', 'arr_6', 'arr_7', 'arr_8', 'arr_9']\n",
      "Now working on 4.\n",
      "D:\\Dropbox\\Projects\\DEI\\data\\C1M1R\\1\\darks\n",
      "True\n",
      "D:\\Dropbox\\Projects\\DEI\\data\\C1M1R\\6\\flat\n",
      "True\n",
      "D:\\Dropbox\\Projects\\DEI\\data\\C1M1R\\6\\flat\n",
      "True\n",
      "D:\\Dropbox\\Projects\\DEI\\data\\C1M1R\\4\\image\n",
      "True\n",
      "No of images loaded are: 14, 14, 14. All should have the same value.\n",
      "['arr_0', 'arr_1', 'arr_2', 'arr_3', 'arr_4', 'arr_5', 'arr_6', 'arr_7', 'arr_8', 'arr_9']\n"
     ]
    },
    {
     "name": "stderr",
     "output_type": "stream",
     "text": [
      "0% [##############################] 100% | ETA: 00:00:00\n",
      "Total time elapsed: 00:01:47\n"
     ]
    },
    {
     "name": "stdout",
     "output_type": "stream",
     "text": [
      "['arr_0', 'arr_1', 'arr_2', 'arr_3', 'arr_4', 'arr_5', 'arr_6', 'arr_7', 'arr_8', 'arr_9']\n",
      "Now working on 5.\n",
      "D:\\Dropbox\\Projects\\DEI\\data\\C1M1R\\1\\darks\n",
      "True\n",
      "D:\\Dropbox\\Projects\\DEI\\data\\C1M1R\\6\\flat\n",
      "True\n",
      "D:\\Dropbox\\Projects\\DEI\\data\\C1M1R\\6\\flat\n",
      "True\n",
      "D:\\Dropbox\\Projects\\DEI\\data\\C1M1R\\5\\image\n",
      "True\n",
      "No of images loaded are: 14, 14, 14. All should have the same value.\n",
      "['arr_0', 'arr_1', 'arr_2', 'arr_3', 'arr_4', 'arr_5', 'arr_6', 'arr_7', 'arr_8', 'arr_9']\n"
     ]
    },
    {
     "name": "stderr",
     "output_type": "stream",
     "text": [
      "0% [##############################] 100% | ETA: 00:00:00\n",
      "Total time elapsed: 00:01:47\n"
     ]
    },
    {
     "name": "stdout",
     "output_type": "stream",
     "text": [
      "['arr_0', 'arr_1', 'arr_2', 'arr_3', 'arr_4', 'arr_5', 'arr_6', 'arr_7', 'arr_8', 'arr_9']\n",
      "Now working on 6.\n",
      "D:\\Dropbox\\Projects\\DEI\\data\\C1M1R\\1\\darks\n",
      "True\n",
      "D:\\Dropbox\\Projects\\DEI\\data\\C1M1R\\6\\flat\n",
      "True\n",
      "D:\\Dropbox\\Projects\\DEI\\data\\C1M1R\\6\\flat\n",
      "True\n",
      "D:\\Dropbox\\Projects\\DEI\\data\\C1M1R\\6\\image\n",
      "True\n",
      "No of images loaded are: 14, 14, 14. All should have the same value.\n",
      "['arr_0', 'arr_1', 'arr_2', 'arr_3', 'arr_4', 'arr_5', 'arr_6', 'arr_7', 'arr_8', 'arr_9']\n"
     ]
    },
    {
     "name": "stderr",
     "output_type": "stream",
     "text": [
      "0% [##############################] 100% | ETA: 00:00:00\n",
      "Total time elapsed: 00:01:47\n"
     ]
    },
    {
     "name": "stdout",
     "output_type": "stream",
     "text": [
      "['arr_0', 'arr_1', 'arr_2', 'arr_3', 'arr_4', 'arr_5', 'arr_6', 'arr_7', 'arr_8', 'arr_9']\n",
      "Finished all folders.\n",
      "Total Time =  19.97 min, time per folder =   3.33 min.\n"
     ]
    }
   ],
   "source": [
    "# Do the work\n",
    "def calc_all(param):\n",
    "    start_all = time.time()\n",
    "    time_each = []\n",
    "    output = io.Text_Output()\n",
    "    param[\"output\"] = output\n",
    "    for data in param[\"data_dirs\"]:\n",
    "        start_each = time.time()\n",
    "        output.showMessage(\"Now working on {}.\".format(data))\n",
    "        param[\"data_dir\"] = data\n",
    "        io.create_paths(param, output)\n",
    "        image, flat_image, flat2_image = io.load_data(param, param[\"crop\"])\n",
    "        output.showMessage(\n",
    "            \"No of images loaded are: {}, {}, {}. All should have the same value.\".format(\n",
    "                len(image), len(flat_image), len(flat2_image)\n",
    "            )\n",
    "        )\n",
    "        result1, result2 = fm.fit_dirs(\n",
    "            param, output, image, flat_image, flat2_image, param[\"threshold\"]\n",
    "        )\n",
    "        io.save_results(param, result1, result2)\n",
    "        end_each = time.time()\n",
    "        time_each.append(end_each - start_each)\n",
    "    end_all = time.time()\n",
    "    each_ave = (sum(time_each) / len(time_each)) / 60.0\n",
    "    total = (end_all - start_all) / 60.0\n",
    "    output.showMessage(\n",
    "        \"Finished all folders.\\nTotal Time = {:6.2f} min, time per folder = {:6.2f} min.\".format(\n",
    "            total, each_ave\n",
    "        )\n",
    "    )\n",
    "\n",
    "\n",
    "chk_dir = [\n",
    "    os.path.exists(os.path.join(param[\"root_dir\"], sub_dir))\n",
    "    for sub_dir in param[\"data_dirs\"]\n",
    "]\n",
    "if all(chk_dir):\n",
    "    calc_all(param)\n",
    "else:\n",
    "    print(\"Not all data folders were found. Check input.\")"
   ]
  },
  {
   "cell_type": "code",
   "execution_count": null,
   "metadata": {},
   "outputs": [],
   "source": []
  }
 ],
 "metadata": {
  "kernelspec": {
   "display_name": "Python 3 (ipykernel)",
   "language": "python",
   "name": "python3"
  },
  "language_info": {
   "codemirror_mode": {
    "name": "ipython",
    "version": 3
   },
   "file_extension": ".py",
   "mimetype": "text/x-python",
   "name": "python",
   "nbconvert_exporter": "python",
   "pygments_lexer": "ipython3",
   "version": "3.8.12"
  }
 },
 "nbformat": 4,
 "nbformat_minor": 4
}
