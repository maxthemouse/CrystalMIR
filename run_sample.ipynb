{
 "cells": [
  {
   "cell_type": "markdown",
   "id": "c4f7ac83-0122-4eea-b251-4f5b7a631f89",
   "metadata": {},
   "source": [
    "# Run Samples"
   ]
  },
  {
   "cell_type": "markdown",
   "id": "9fa98c2a-919e-47e1-93ba-28bf22c08502",
   "metadata": {},
   "source": [
    "## Run all of one sample"
   ]
  },
  {
   "cell_type": "code",
   "execution_count": null,
   "id": "d7d7270c-eea5-4746-8515-dfd0b121b4af",
   "metadata": {
    "tags": []
   },
   "outputs": [],
   "source": [
    "%run G:\\WPy64-31140\\notebooks\\MultipleImageRadiography\\set_settings.ipynb\n",
    "%run G:\\WPy64-31140\\notebooks\\MultipleImageRadiography\\multicalc.ipynb\n",
    "%run G:\\WPy64-31140\\notebooks\\MultipleImageRadiography\\synth_image_multi.ipynb\n",
    "%run G:\\WPy64-31140\\notebooks\\MultipleImageRadiography\\stitch_images.ipynb"
   ]
  },
  {
   "cell_type": "code",
   "execution_count": null,
   "id": "1160e19d-152c-42b8-928d-56ad3a3b5fb2",
   "metadata": {},
   "outputs": [],
   "source": []
  }
 ],
 "metadata": {
  "kernelspec": {
   "display_name": "Python 3 (ipykernel)",
   "language": "python",
   "name": "python3"
  },
  "language_info": {
   "codemirror_mode": {
    "name": "ipython",
    "version": 3
   },
   "file_extension": ".py",
   "mimetype": "text/x-python",
   "name": "python",
   "nbconvert_exporter": "python",
   "pygments_lexer": "ipython3",
   "version": "3.11.4"
  }
 },
 "nbformat": 4,
 "nbformat_minor": 5
}
