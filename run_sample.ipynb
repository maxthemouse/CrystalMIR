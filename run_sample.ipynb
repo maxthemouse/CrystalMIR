{
 "cells": [
  {
   "cell_type": "markdown",
   "id": "0",
   "metadata": {},
   "source": [
    "# Run Samples"
   ]
  },
  {
   "cell_type": "markdown",
   "id": "1",
   "metadata": {},
   "source": [
    "## Run all of one sample"
   ]
  },
  {
   "cell_type": "code",
   "execution_count": null,
   "id": "2",
   "metadata": {
    "tags": []
   },
   "outputs": [],
   "source": [
    "%run E:\\WPy64-31140\\notebooks\\MultipleImageRadiography\\set_settings.ipynb\n",
    "%run E:\\WPy64-31140\\notebooks\\MultipleImageRadiography\\multicalc.ipynb\n",
    "#%run E:\\WPy64-31140\\notebooks\\MultipleImageRadiography\\synth_image_multi.ipynb\n",
    "%run E:\\WPy64-31140\\notebooks\\MultipleImageRadiography\\stitch_images.ipynb"
   ]
  }
 ],
 "metadata": {
  "kernelspec": {
   "display_name": "Python 3 (ipykernel)",
   "language": "python",
   "name": "python3"
  },
  "language_info": {
   "codemirror_mode": {
    "name": "ipython",
    "version": 3
   },
   "file_extension": ".py",
   "mimetype": "text/x-python",
   "name": "python",
   "nbconvert_exporter": "python",
   "pygments_lexer": "ipython3",
   "version": "3.11.4"
  }
 },
 "nbformat": 4,
 "nbformat_minor": 5
}
